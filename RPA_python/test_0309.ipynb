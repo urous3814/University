{
 "cells": [
  {
   "cell_type": "code",
   "execution_count": 3,
   "id": "cc8973d1",
   "metadata": {},
   "outputs": [
    {
     "data": {
      "text/plain": [
       "'C:\\\\Users\\\\user'"
      ]
     },
     "execution_count": 3,
     "metadata": {},
     "output_type": "execute_result"
    }
   ],
   "source": [
    "import os\n",
    "os.getcwd()"
   ]
  },
  {
   "cell_type": "code",
   "execution_count": 5,
   "id": "593d719a",
   "metadata": {},
   "outputs": [],
   "source": [
    "os.mkdir('C:\\\\Users\\\\user\\\\temp')"
   ]
  },
  {
   "cell_type": "code",
   "execution_count": 7,
   "id": "3d5aaa60",
   "metadata": {},
   "outputs": [],
   "source": [
    "os.chdir(\"C:\\\\Users\\\\user\\\\temp\")"
   ]
  },
  {
   "cell_type": "code",
   "execution_count": 8,
   "id": "4fa5344c",
   "metadata": {},
   "outputs": [
    {
     "data": {
      "text/plain": [
       "'C:\\\\Users\\\\user\\\\temp'"
      ]
     },
     "execution_count": 8,
     "metadata": {},
     "output_type": "execute_result"
    }
   ],
   "source": [
    "os.getcwd()"
   ]
  },
  {
   "cell_type": "code",
   "execution_count": 9,
   "id": "7f920aa1",
   "metadata": {},
   "outputs": [],
   "source": [
    "a = 10\n",
    "b = 3.15\n",
    "c = 'Hello'"
   ]
  },
  {
   "cell_type": "code",
   "execution_count": 10,
   "id": "e61c0090",
   "metadata": {},
   "outputs": [
    {
     "name": "stdout",
     "output_type": "stream",
     "text": [
      "<class 'int'>\n",
      "<class 'float'>\n",
      "<class 'str'>\n"
     ]
    }
   ],
   "source": [
    "print(type(a))\n",
    "print(type(b))\n",
    "print(type(c))"
   ]
  },
  {
   "cell_type": "code",
   "execution_count": 27,
   "id": "2711a3ec",
   "metadata": {},
   "outputs": [],
   "source": [
    "d = ['a', 'b', 'c', 1, 2, 3]"
   ]
  },
  {
   "cell_type": "code",
   "execution_count": 30,
   "id": "0b63546d",
   "metadata": {},
   "outputs": [
    {
     "name": "stdout",
     "output_type": "stream",
     "text": [
      "c\n"
     ]
    }
   ],
   "source": [
    "print(d[2])"
   ]
  },
  {
   "cell_type": "code",
   "execution_count": 31,
   "id": "4c32cf93",
   "metadata": {},
   "outputs": [],
   "source": [
    "e = '아름다운 봄입니다.'"
   ]
  },
  {
   "cell_type": "code",
   "execution_count": 39,
   "id": "09174399",
   "metadata": {},
   "outputs": [],
   "source": [
    "s1= e.find('봄')  #5\n",
    "s1 = e.find('아') #0"
   ]
  },
  {
   "cell_type": "code",
   "execution_count": 41,
   "id": "bf35f557",
   "metadata": {},
   "outputs": [
    {
     "name": "stdout",
     "output_type": "stream",
     "text": [
      "아름다운 봄\n"
     ]
    }
   ],
   "source": [
    "print(e[s2:s1+1])"
   ]
  },
  {
   "cell_type": "code",
   "execution_count": 29,
   "id": "de733939",
   "metadata": {},
   "outputs": [
    {
     "name": "stdout",
     "output_type": "stream",
     "text": [
      "<class 'list'>\n"
     ]
    }
   ],
   "source": [
    "print(type(d))"
   ]
  },
  {
   "cell_type": "code",
   "execution_count": 15,
   "id": "709942fc",
   "metadata": {},
   "outputs": [
    {
     "name": "stdout",
     "output_type": "stream",
     "text": [
      "정수 숫자 입력하라=> 100\n"
     ]
    }
   ],
   "source": [
    "ch1 = input('정수 숫자 입력하라=> ')"
   ]
  },
  {
   "cell_type": "code",
   "execution_count": 14,
   "id": "e956a7c4",
   "metadata": {},
   "outputs": [
    {
     "name": "stdout",
     "output_type": "stream",
     "text": [
      "정수 숫자 입력하라=> 500\n"
     ]
    }
   ],
   "source": [
    "ch2 = input('정수 숫자 입력하라=> ')"
   ]
  },
  {
   "cell_type": "code",
   "execution_count": 18,
   "id": "0a7089d8",
   "metadata": {},
   "outputs": [
    {
     "name": "stdout",
     "output_type": "stream",
     "text": [
      "100500\n"
     ]
    }
   ],
   "source": [
    "print(ch1+ch2)"
   ]
  },
  {
   "cell_type": "code",
   "execution_count": 19,
   "id": "55cbb48e",
   "metadata": {},
   "outputs": [
    {
     "data": {
      "text/plain": [
       "str"
      ]
     },
     "execution_count": 19,
     "metadata": {},
     "output_type": "execute_result"
    }
   ],
   "source": [
    "type(ch1)"
   ]
  },
  {
   "cell_type": "code",
   "execution_count": 20,
   "id": "813c84a0",
   "metadata": {},
   "outputs": [],
   "source": [
    "ch1 = int(ch1)"
   ]
  },
  {
   "cell_type": "code",
   "execution_count": 21,
   "id": "cb4c4a7b",
   "metadata": {},
   "outputs": [
    {
     "data": {
      "text/plain": [
       "int"
      ]
     },
     "execution_count": 21,
     "metadata": {},
     "output_type": "execute_result"
    }
   ],
   "source": [
    "type(ch1)"
   ]
  },
  {
   "cell_type": "code",
   "execution_count": 22,
   "id": "5045a0b6",
   "metadata": {},
   "outputs": [],
   "source": [
    "ch2 = int(ch2)"
   ]
  },
  {
   "cell_type": "code",
   "execution_count": 23,
   "id": "1a960461",
   "metadata": {},
   "outputs": [
    {
     "name": "stdout",
     "output_type": "stream",
     "text": [
      "600\n"
     ]
    }
   ],
   "source": [
    "print(ch1+ch2)"
   ]
  },
  {
   "cell_type": "code",
   "execution_count": 24,
   "id": "cbe3c51f",
   "metadata": {},
   "outputs": [],
   "source": [
    "ch1 = float(ch1)"
   ]
  },
  {
   "cell_type": "code",
   "execution_count": 25,
   "id": "1c642beb",
   "metadata": {},
   "outputs": [
    {
     "name": "stdout",
     "output_type": "stream",
     "text": [
      "600.0\n"
     ]
    }
   ],
   "source": [
    "print(ch1+ch2)"
   ]
  },
  {
   "cell_type": "code",
   "execution_count": null,
   "id": "a84d28c7",
   "metadata": {},
   "outputs": [],
   "source": []
  }
 ],
 "metadata": {
  "kernelspec": {
   "display_name": "Python 3 (ipykernel)",
   "language": "python",
   "name": "python3"
  },
  "language_info": {
   "codemirror_mode": {
    "name": "ipython",
    "version": 3
   },
   "file_extension": ".py",
   "mimetype": "text/x-python",
   "name": "python",
   "nbconvert_exporter": "python",
   "pygments_lexer": "ipython3",
   "version": "3.7.9"
  }
 },
 "nbformat": 4,
 "nbformat_minor": 5
}
